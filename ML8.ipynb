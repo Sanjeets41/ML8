{
 "cells": [
  {
   "cell_type": "code",
   "execution_count": 11,
   "metadata": {},
   "outputs": [
    {
     "name": "stdout",
     "output_type": "stream",
     "text": [
      "[nltk_data] Downloading package punkt to\n",
      "[nltk_data]     C:\\Users\\sanjesha\\AppData\\Roaming\\nltk_data...\n",
      "[nltk_data]   Unzipping tokenizers\\punkt.zip.\n"
     ]
    },
    {
     "data": {
      "text/plain": [
       "True"
      ]
     },
     "execution_count": 11,
     "metadata": {},
     "output_type": "execute_result"
    }
   ],
   "source": [
    "import urllib.request\n",
    "import nltk\n",
    "from bs4 import BeautifulSoup\n",
    "nltk.download('punkt')"
   ]
  },
  {
   "cell_type": "code",
   "execution_count": 12,
   "metadata": {},
   "outputs": [],
   "source": [
    "response = urllib.request.urlopen('http://php.net/')\n",
    "html = response.read()\n",
    "raw = BeautifulSoup(html,\"html5lib\").get_text()"
   ]
  },
  {
   "cell_type": "code",
   "execution_count": 13,
   "metadata": {},
   "outputs": [
    {
     "name": "stdout",
     "output_type": "stream",
     "text": [
      "the; 278\n",
      "php; 163\n",
      "for; 97\n",
      "of; 92\n",
      "in; 87\n",
      "release; 86\n",
      "and; 71\n",
      "can; 70\n",
      "be; 65\n",
      "found; 60\n",
      "is; 59\n",
      "this; 56\n",
      "on; 55\n",
      "file; 40\n",
      "you; 37\n",
      "to; 35\n",
      "please; 35\n",
      "version; 32\n",
      "upgrading; 32\n",
      "downloads; 31\n",
      "source; 30\n",
      "changes; 29\n",
      "development; 28\n",
      "list; 28\n",
      "or; 27\n",
      "page; 26\n",
      "released; 26\n",
      "windows; 23\n",
      "team; 23\n",
      "visit; 23\n",
      "binaries; 22\n",
      "also; 22\n",
      "bug; 21\n",
      "read; 21\n",
      "7.3.0; 20\n",
      "other; 19\n",
      "next; 19\n",
      "7.2.0; 19\n",
      "are; 18\n",
      "features; 17\n",
      "files; 17\n",
      "archive; 17\n",
      "system; 17\n",
      "download; 17\n",
      "test; 17\n",
      "news; 17\n",
      "extensions; 16\n",
      "wiki; 16\n",
      "carefully; 16\n",
      "report; 16\n"
     ]
    }
   ],
   "source": [
    "words = nltk.word_tokenize(raw)\n",
    "\n",
    "# Remove single-character tokens (mostly punctuation)\n",
    "words = [word for word in words if len(word) > 1]\n",
    "\n",
    "# Remove numbers\n",
    "words = [word for word in words if not word.isnumeric()]\n",
    "\n",
    "# Lowercase all words (default_stopwords are lowercase too)\n",
    "words = [word.lower() for word in words]\n",
    "\n",
    "# Calculate frequency distribution\n",
    "fdist = nltk.FreqDist(words)\n",
    "\n",
    "# Output top 50 words\n",
    "for word, frequency in fdist.most_common(50):\n",
    "    print(u'{}; {}'.format(word, frequency))"
   ]
  },
  {
   "cell_type": "code",
   "execution_count": null,
   "metadata": {},
   "outputs": [],
   "source": []
  }
 ],
 "metadata": {
  "kernelspec": {
   "display_name": "Python 3",
   "language": "python",
   "name": "python3"
  },
  "language_info": {
   "codemirror_mode": {
    "name": "ipython",
    "version": 3
   },
   "file_extension": ".py",
   "mimetype": "text/x-python",
   "name": "python",
   "nbconvert_exporter": "python",
   "pygments_lexer": "ipython3",
   "version": "3.6.6"
  }
 },
 "nbformat": 4,
 "nbformat_minor": 2
}
